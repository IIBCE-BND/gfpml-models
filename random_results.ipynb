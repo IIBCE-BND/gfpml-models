{
 "cells": [
  {
   "cell_type": "code",
   "execution_count": 1,
   "metadata": {},
   "outputs": [],
   "source": [
    "import pandas as pd\n",
    "import numpy as np\n",
    "\n",
    "from parsers.obo import parse_obo\n",
    "from evaluation import evaluate, Hprecision_micro, Hrecall_micro, HF1_micro"
   ]
  },
  {
   "cell_type": "code",
   "execution_count": 2,
   "metadata": {},
   "outputs": [],
   "source": [
    "ONTOLOGIES = ['biological_process', 'cellular_component', 'molecular_function']\n",
    "ORGANISMS = ['celegans', 'dmel', 'hg', 'mm']\n",
    "\n",
    "ontology_path = '../datasets/raw/obo/go-basic.obo'\n",
    "gos, ontology_gos, go_alt_ids, ontology_graphs = parse_obo(ontology_path)"
   ]
  },
  {
   "cell_type": "code",
   "execution_count": 3,
   "metadata": {},
   "outputs": [
    {
     "name": "stdout",
     "output_type": "stream",
     "text": "celegans cellular_component\n"
    }
   ],
   "source": [
    "organism = 'celegans'\n",
    "ontology = 'cellular_component'\n",
    "print(organism, ontology)\n",
    "\n",
    "file_name = 'results/results_model_{}_{}.csv'.format(organism, ontology)\n",
    "results = pd.read_csv(file_name, sep='\\t').set_index(['pos', 'seqname'])\n",
    "random_results = np.random.uniform(size=results.shape)*(results != 0)\n",
    "random_results = pd.DataFrame(random_results, columns=results.columns, index=results.index)\n",
    "\n",
    "go_ids = results.columns.tolist()\n",
    "ontology_subgraph = ontology_graphs[ontology].subgraph(go_ids)"
   ]
  },
  {
   "cell_type": "code",
   "execution_count": 4,
   "metadata": {},
   "outputs": [
    {
     "name": "stderr",
     "output_type": "stream",
     "text": "100%|██████████| 4042/4042 [01:02<00:00, 64.48it/s]\n100%|██████████| 4042/4042 [01:14<00:00, 53.99it/s]\n"
    }
   ],
   "source": [
    "post_results, preds = evaluate(results, ontology_subgraph, threshold=0.5)\n",
    "random_post_results, random_preds = evaluate(random_results, ontology_subgraph, threshold=0.5)"
   ]
  },
  {
   "cell_type": "code",
   "execution_count": 5,
   "metadata": {},
   "outputs": [],
   "source": [
    "expanded_annots = pd.read_csv('../datasets/preprocessed/{}/expanded_annots_{}.csv'.format(organism, ontology), sep='\\t')\n",
    "expanded_annots = expanded_annots.set_index(['pos', 'seqname'])\n",
    "genome = pd.read_csv('../datasets/preprocessed/{}/genome.csv'.format(organism), sep='\\t').set_index(['pos', 'seqname'])\n",
    "\n",
    "annots_test = expanded_annots[expanded_annots.go_id.isin(go_ids) & expanded_annots.index.isin(results.index.tolist())]\n",
    "true_annots_test = {(pos, chromosome):list(set(df['go_id'].values)) for (pos, chromosome), df in annots_test.groupby(['pos', 'seqname'])}"
   ]
  },
  {
   "cell_type": "code",
   "execution_count": 6,
   "metadata": {},
   "outputs": [
    {
     "name": "stdout",
     "output_type": "stream",
     "text": "Precision 0.4118377850740971 0.3319759965709387\nRecall 0.4237195288961928 0.14142244134027207\nF1 0.41769417694176936 0.19834816569562713\n"
    }
   ],
   "source": [
    "results_precision = Hprecision_micro(ontology_subgraph, preds, true_annots_test)\n",
    "random_precision = Hprecision_micro(ontology_subgraph, random_preds, true_annots_test)\n",
    "print('Precision', results_precision, random_precision)\n",
    "\n",
    "results_recall = Hrecall_micro(ontology_subgraph, preds, true_annots_test)\n",
    "random_recall = Hrecall_micro(ontology_subgraph, random_preds, true_annots_test)\n",
    "print('Recall', results_recall, random_recall)\n",
    "\n",
    "results_F1 = HF1_micro(ontology_subgraph, preds, true_annots_test)\n",
    "random_F1 = HF1_micro(ontology_subgraph, random_preds, true_annots_test)\n",
    "print('F1', results_F1, random_F1)\n",
    "\n",
    "random_post_results.to_csv('results/random_post_results_model_{}_{}.csv'.format(organism, ontology), sep='\\t', index=True)\n"
   ]
  },
  {
   "cell_type": "code",
   "execution_count": null,
   "metadata": {},
   "outputs": [],
   "source": []
  }
 ],
 "metadata": {
  "kernelspec": {
   "display_name": "Python 3",
   "language": "python",
   "name": "python3"
  },
  "language_info": {
   "codemirror_mode": {
    "name": "ipython",
    "version": 3
   },
   "file_extension": ".py",
   "mimetype": "text/x-python",
   "name": "python",
   "nbconvert_exporter": "python",
   "pygments_lexer": "ipython3",
   "version": "3.5.2-final"
  }
 },
 "nbformat": 4,
 "nbformat_minor": 2
}